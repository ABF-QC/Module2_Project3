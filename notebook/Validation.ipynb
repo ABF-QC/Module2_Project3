{
 "cells": [
  {
   "cell_type": "markdown",
   "id": "9a1cd1be-4b12-4a04-809d-8f3eb58d27b7",
   "metadata": {},
   "source": [
    "---\n",
    "# Validation of best model\n",
    "---\n",
    "In this notebook, we will be validating and comparing different models together\n",
    "\n",
    "Here are the three models that will be validated and for which we will be comparing the results:\n",
    "1. The best model found, which is a Random Forest model, based on the accuracy score.\n",
    "2. The best model based on the balanced accuracy score, which is a Decision Tree Classifier model.\n",
    "3. The client's actual model from which the Churn Score is calculated.\n",
    "\n",
    "\n",
    "## Results\n",
    "\n",
    "\n",
    "---"
   ]
  },
  {
   "cell_type": "markdown",
   "id": "85bfd8d4-56b0-4fa9-9bfe-b36d624deec6",
   "metadata": {},
   "source": [
    "### Importing necessary library"
   ]
  },
  {
   "cell_type": "code",
   "execution_count": 109,
   "id": "7c3f8638-c49d-4060-9537-12ba752dd0ed",
   "metadata": {
    "execution": {
     "iopub.execute_input": "2025-03-15T17:50:15.280393Z",
     "iopub.status.busy": "2025-03-15T17:50:15.279841Z",
     "iopub.status.idle": "2025-03-15T17:50:15.290360Z",
     "shell.execute_reply": "2025-03-15T17:50:15.286887Z",
     "shell.execute_reply.started": "2025-03-15T17:50:15.280349Z"
    }
   },
   "outputs": [],
   "source": [
    "import pandas as pd\n",
    "import numpy as np\n",
    "\n",
    "import seaborn as sns\n",
    "import matplotlib.pyplot as plt\n",
    "\n",
    "from sklearn.preprocessing import StandardScaler\n",
    "from scipy.spatial.distance import cdist\n",
    "from scipy.spatial import distance\n",
    "\n",
    "import joblib"
   ]
  },
  {
   "cell_type": "markdown",
   "id": "62362f63-6291-445a-b39a-6cb18faae165",
   "metadata": {
    "execution": {
     "iopub.execute_input": "2025-03-01T22:00:33.436550Z",
     "iopub.status.busy": "2025-03-01T22:00:33.435980Z",
     "iopub.status.idle": "2025-03-01T22:00:33.448115Z",
     "shell.execute_reply": "2025-03-01T22:00:33.446039Z",
     "shell.execute_reply.started": "2025-03-01T22:00:33.436497Z"
    }
   },
   "source": [
    "---\n",
    "\n",
    "<center>\n",
    "    \n",
    "## Creating new data\n",
    "\n",
    "</center>\n",
    "\n",
    "---"
   ]
  },
  {
   "cell_type": "markdown",
   "id": "30e439c1-e6ed-4f71-b51f-f35e3e9908d0",
   "metadata": {
    "execution": {
     "iopub.execute_input": "2025-03-15T16:34:27.559984Z",
     "iopub.status.busy": "2025-03-15T16:34:27.558764Z",
     "iopub.status.idle": "2025-03-15T16:34:27.569785Z",
     "shell.execute_reply": "2025-03-15T16:34:27.567988Z",
     "shell.execute_reply.started": "2025-03-15T16:34:27.559926Z"
    }
   },
   "source": [
    "### Columns to create in new dataset"
   ]
  },
  {
   "cell_type": "code",
   "execution_count": 31,
   "id": "eee0f274-913f-44a6-96fd-8d841ea31dd4",
   "metadata": {
    "execution": {
     "iopub.execute_input": "2025-03-15T17:13:54.371962Z",
     "iopub.status.busy": "2025-03-15T17:13:54.370993Z",
     "iopub.status.idle": "2025-03-15T17:13:54.388018Z",
     "shell.execute_reply": "2025-03-15T17:13:54.385106Z",
     "shell.execute_reply.started": "2025-03-15T17:13:54.371909Z"
    }
   },
   "outputs": [],
   "source": [
    "cols=[ 'Photochemical Ozone Formation', \n",
    "       'Fine Particles',\n",
    "       'Ecotoxicity for Freshwater Aquatic Ecosystems',\n",
    "       'Land Use',\n",
    "       'Water Resource Depletion', \n",
    "       'Energy Resource Depletion',\n",
    "       'Mineral Resource Depletion',\n",
    "       'Climate Change',\n",
    "       'Toxicological Effects',\n",
    "       'Water Eutrophication',   \n",
    "     ]"
   ]
  },
  {
   "cell_type": "markdown",
   "id": "d313bcb0-3016-4f0c-a2eb-ae278fdb6f3e",
   "metadata": {},
   "source": [
    "### Creating fake data for the dataset"
   ]
  },
  {
   "cell_type": "code",
   "execution_count": 129,
   "id": "5a90893e-8417-4a4a-afa8-9df80f6bbc6e",
   "metadata": {
    "execution": {
     "iopub.execute_input": "2025-03-15T18:02:01.246794Z",
     "iopub.status.busy": "2025-03-15T18:02:01.246204Z",
     "iopub.status.idle": "2025-03-15T18:02:01.260447Z",
     "shell.execute_reply": "2025-03-15T18:02:01.258996Z",
     "shell.execute_reply.started": "2025-03-15T18:02:01.246748Z"
    },
    "tags": []
   },
   "outputs": [],
   "source": [
    "low    = [0.01, 4e-08,\t 25.,\t50.00, 2., 35.0, 0.00002, 5.0, 8e-08, 0.002,] # Trying to get category 1 or 4\n",
    "medium = [0.10, 4e-06,\t 25.,\t50.00, 2., 150., 0.00002, 10.0,\t8e-08, 0.002,] # Trying to get category 2\n",
    "high   = [0.08, 6e-06,\t 200.,\t5000., 2., 200., 0.00005, 45.0, 8e-07, 0.002,\t] # Trying to get category 6 "
   ]
  },
  {
   "cell_type": "markdown",
   "id": "10b6013c-e54e-4743-b77a-aa30d7dd9784",
   "metadata": {
    "execution": {
     "iopub.execute_input": "2025-03-01T21:46:04.307307Z",
     "iopub.status.busy": "2025-03-01T21:46:04.306075Z",
     "iopub.status.idle": "2025-03-01T21:46:04.323562Z",
     "shell.execute_reply": "2025-03-01T21:46:04.317516Z",
     "shell.execute_reply.started": "2025-03-01T21:46:04.307221Z"
    }
   },
   "source": [
    "### Converting data subset to dataframe "
   ]
  },
  {
   "cell_type": "code",
   "execution_count": 130,
   "id": "af69efcf-a35c-44ad-8ea8-4f304dc46cb3",
   "metadata": {
    "execution": {
     "iopub.execute_input": "2025-03-15T18:02:04.815330Z",
     "iopub.status.busy": "2025-03-15T18:02:04.814786Z",
     "iopub.status.idle": "2025-03-15T18:02:04.829988Z",
     "shell.execute_reply": "2025-03-15T18:02:04.828575Z",
     "shell.execute_reply.started": "2025-03-15T18:02:04.815283Z"
    }
   },
   "outputs": [],
   "source": [
    "X = pd.DataFrame([low,medium,high], columns=cols)"
   ]
  },
  {
   "cell_type": "markdown",
   "id": "25758eb4-e7b4-4354-97d2-6e13906f7993",
   "metadata": {
    "execution": {
     "iopub.execute_input": "2025-03-01T22:00:33.436550Z",
     "iopub.status.busy": "2025-03-01T22:00:33.435980Z",
     "iopub.status.idle": "2025-03-01T22:00:33.448115Z",
     "shell.execute_reply": "2025-03-01T22:00:33.446039Z",
     "shell.execute_reply.started": "2025-03-01T22:00:33.436497Z"
    }
   },
   "source": [
    "---\n",
    "\n",
    "<center>\n",
    "    \n",
    "## Hierarchical Clustering Model\n",
    "\n",
    "</center>\n",
    "\n",
    "---"
   ]
  },
  {
   "cell_type": "markdown",
   "id": "b2539e81-9a39-4c49-bc54-211ebc506569",
   "metadata": {},
   "source": [
    "### Loading the model's scaler"
   ]
  },
  {
   "cell_type": "code",
   "execution_count": 131,
   "id": "701e8c0c-dac3-43cc-92a0-e99cd1b14800",
   "metadata": {
    "execution": {
     "iopub.execute_input": "2025-03-15T18:02:06.270906Z",
     "iopub.status.busy": "2025-03-15T18:02:06.270281Z",
     "iopub.status.idle": "2025-03-15T18:02:06.296794Z",
     "shell.execute_reply": "2025-03-15T18:02:06.294622Z",
     "shell.execute_reply.started": "2025-03-15T18:02:06.270851Z"
    }
   },
   "outputs": [],
   "source": [
    "# Load the model and preprocessors (if saved)\n",
    "scaler = joblib.load('../model/AC_scaler.joblib')"
   ]
  },
  {
   "cell_type": "markdown",
   "id": "028b8b44-403a-4150-a708-cd0eff864d09",
   "metadata": {
    "execution": {
     "iopub.execute_input": "2025-03-15T17:35:25.002203Z",
     "iopub.status.busy": "2025-03-15T17:35:25.001633Z",
     "iopub.status.idle": "2025-03-15T17:35:25.010461Z",
     "shell.execute_reply": "2025-03-15T17:35:25.008981Z",
     "shell.execute_reply.started": "2025-03-15T17:35:25.002154Z"
    }
   },
   "source": [
    "### Loading the model's Cluster Centroid information file"
   ]
  },
  {
   "cell_type": "code",
   "execution_count": 132,
   "id": "af15b317-02d6-42a0-bf3e-bb00ce2b29a3",
   "metadata": {
    "execution": {
     "iopub.execute_input": "2025-03-15T18:02:08.395054Z",
     "iopub.status.busy": "2025-03-15T18:02:08.394458Z",
     "iopub.status.idle": "2025-03-15T18:02:08.461625Z",
     "shell.execute_reply": "2025-03-15T18:02:08.460458Z",
     "shell.execute_reply.started": "2025-03-15T18:02:08.395003Z"
    }
   },
   "outputs": [
    {
     "data": {
      "text/html": [
       "<div>\n",
       "<style scoped>\n",
       "    .dataframe tbody tr th:only-of-type {\n",
       "        vertical-align: middle;\n",
       "    }\n",
       "\n",
       "    .dataframe tbody tr th {\n",
       "        vertical-align: top;\n",
       "    }\n",
       "\n",
       "    .dataframe thead th {\n",
       "        text-align: right;\n",
       "    }\n",
       "</style>\n",
       "<table border=\"1\" class=\"dataframe\">\n",
       "  <thead>\n",
       "    <tr style=\"text-align: right;\">\n",
       "      <th></th>\n",
       "      <th>0</th>\n",
       "      <th>1</th>\n",
       "      <th>2</th>\n",
       "      <th>3</th>\n",
       "      <th>4</th>\n",
       "      <th>5</th>\n",
       "      <th>6</th>\n",
       "      <th>7</th>\n",
       "      <th>8</th>\n",
       "      <th>9</th>\n",
       "    </tr>\n",
       "    <tr>\n",
       "      <th>Cluster</th>\n",
       "      <th></th>\n",
       "      <th></th>\n",
       "      <th></th>\n",
       "      <th></th>\n",
       "      <th></th>\n",
       "      <th></th>\n",
       "      <th></th>\n",
       "      <th></th>\n",
       "      <th></th>\n",
       "      <th></th>\n",
       "    </tr>\n",
       "  </thead>\n",
       "  <tbody>\n",
       "    <tr>\n",
       "      <th>0</th>\n",
       "      <td>0.464376</td>\n",
       "      <td>2.034674</td>\n",
       "      <td>2.206861</td>\n",
       "      <td>2.084632</td>\n",
       "      <td>0.006420</td>\n",
       "      <td>1.048484</td>\n",
       "      <td>0.633946</td>\n",
       "      <td>2.599758</td>\n",
       "      <td>2.128960</td>\n",
       "      <td>1.252387</td>\n",
       "    </tr>\n",
       "    <tr>\n",
       "      <th>1</th>\n",
       "      <td>-0.203800</td>\n",
       "      <td>-0.239374</td>\n",
       "      <td>-0.189214</td>\n",
       "      <td>-0.086800</td>\n",
       "      <td>-0.031428</td>\n",
       "      <td>-0.166742</td>\n",
       "      <td>-0.031002</td>\n",
       "      <td>-0.162803</td>\n",
       "      <td>-0.074419</td>\n",
       "      <td>-0.141245</td>\n",
       "    </tr>\n",
       "    <tr>\n",
       "      <th>2</th>\n",
       "      <td>3.619942</td>\n",
       "      <td>1.438369</td>\n",
       "      <td>-0.033701</td>\n",
       "      <td>-0.427224</td>\n",
       "      <td>-0.148684</td>\n",
       "      <td>1.569809</td>\n",
       "      <td>1.185246</td>\n",
       "      <td>0.581186</td>\n",
       "      <td>-0.099992</td>\n",
       "      <td>0.779610</td>\n",
       "    </tr>\n",
       "    <tr>\n",
       "      <th>3</th>\n",
       "      <td>0.737668</td>\n",
       "      <td>0.318566</td>\n",
       "      <td>2.626519</td>\n",
       "      <td>-0.160563</td>\n",
       "      <td>15.059754</td>\n",
       "      <td>2.326025</td>\n",
       "      <td>0.971979</td>\n",
       "      <td>1.167362</td>\n",
       "      <td>0.782797</td>\n",
       "      <td>1.985677</td>\n",
       "    </tr>\n",
       "    <tr>\n",
       "      <th>4</th>\n",
       "      <td>-0.421125</td>\n",
       "      <td>-0.529051</td>\n",
       "      <td>-0.664455</td>\n",
       "      <td>-0.393064</td>\n",
       "      <td>-0.157448</td>\n",
       "      <td>-0.534639</td>\n",
       "      <td>-0.428574</td>\n",
       "      <td>-0.557940</td>\n",
       "      <td>-0.469326</td>\n",
       "      <td>-0.463279</td>\n",
       "    </tr>\n",
       "    <tr>\n",
       "      <th>5</th>\n",
       "      <td>-0.075959</td>\n",
       "      <td>0.240185</td>\n",
       "      <td>1.564974</td>\n",
       "      <td>0.073882</td>\n",
       "      <td>0.265416</td>\n",
       "      <td>0.324282</td>\n",
       "      <td>0.234660</td>\n",
       "      <td>0.146094</td>\n",
       "      <td>0.061934</td>\n",
       "      <td>0.221851</td>\n",
       "    </tr>\n",
       "    <tr>\n",
       "      <th>6</th>\n",
       "      <td>1.034506</td>\n",
       "      <td>5.301090</td>\n",
       "      <td>2.017912</td>\n",
       "      <td>6.158613</td>\n",
       "      <td>0.167817</td>\n",
       "      <td>0.897869</td>\n",
       "      <td>0.808724</td>\n",
       "      <td>4.774582</td>\n",
       "      <td>5.096465</td>\n",
       "      <td>2.845932</td>\n",
       "    </tr>\n",
       "    <tr>\n",
       "      <th>7</th>\n",
       "      <td>0.842160</td>\n",
       "      <td>0.131880</td>\n",
       "      <td>0.909814</td>\n",
       "      <td>-0.186531</td>\n",
       "      <td>-0.060347</td>\n",
       "      <td>2.217114</td>\n",
       "      <td>0.535102</td>\n",
       "      <td>0.872535</td>\n",
       "      <td>1.327204</td>\n",
       "      <td>11.160533</td>\n",
       "    </tr>\n",
       "    <tr>\n",
       "      <th>8</th>\n",
       "      <td>0.431819</td>\n",
       "      <td>0.159820</td>\n",
       "      <td>-0.095927</td>\n",
       "      <td>-0.401756</td>\n",
       "      <td>0.070228</td>\n",
       "      <td>6.253648</td>\n",
       "      <td>1.169243</td>\n",
       "      <td>0.629467</td>\n",
       "      <td>0.235013</td>\n",
       "      <td>-0.198343</td>\n",
       "    </tr>\n",
       "    <tr>\n",
       "      <th>9</th>\n",
       "      <td>8.256341</td>\n",
       "      <td>3.411375</td>\n",
       "      <td>3.026491</td>\n",
       "      <td>-0.344657</td>\n",
       "      <td>-0.073471</td>\n",
       "      <td>8.898319</td>\n",
       "      <td>22.341896</td>\n",
       "      <td>3.960796</td>\n",
       "      <td>4.155964</td>\n",
       "      <td>2.299269</td>\n",
       "    </tr>\n",
       "  </tbody>\n",
       "</table>\n",
       "</div>"
      ],
      "text/plain": [
       "                0         1         2         3          4         5  \\\n",
       "Cluster                                                                \n",
       "0        0.464376  2.034674  2.206861  2.084632   0.006420  1.048484   \n",
       "1       -0.203800 -0.239374 -0.189214 -0.086800  -0.031428 -0.166742   \n",
       "2        3.619942  1.438369 -0.033701 -0.427224  -0.148684  1.569809   \n",
       "3        0.737668  0.318566  2.626519 -0.160563  15.059754  2.326025   \n",
       "4       -0.421125 -0.529051 -0.664455 -0.393064  -0.157448 -0.534639   \n",
       "5       -0.075959  0.240185  1.564974  0.073882   0.265416  0.324282   \n",
       "6        1.034506  5.301090  2.017912  6.158613   0.167817  0.897869   \n",
       "7        0.842160  0.131880  0.909814 -0.186531  -0.060347  2.217114   \n",
       "8        0.431819  0.159820 -0.095927 -0.401756   0.070228  6.253648   \n",
       "9        8.256341  3.411375  3.026491 -0.344657  -0.073471  8.898319   \n",
       "\n",
       "                 6         7         8          9  \n",
       "Cluster                                            \n",
       "0         0.633946  2.599758  2.128960   1.252387  \n",
       "1        -0.031002 -0.162803 -0.074419  -0.141245  \n",
       "2         1.185246  0.581186 -0.099992   0.779610  \n",
       "3         0.971979  1.167362  0.782797   1.985677  \n",
       "4        -0.428574 -0.557940 -0.469326  -0.463279  \n",
       "5         0.234660  0.146094  0.061934   0.221851  \n",
       "6         0.808724  4.774582  5.096465   2.845932  \n",
       "7         0.535102  0.872535  1.327204  11.160533  \n",
       "8         1.169243  0.629467  0.235013  -0.198343  \n",
       "9        22.341896  3.960796  4.155964   2.299269  "
      ]
     },
     "execution_count": 132,
     "metadata": {},
     "output_type": "execute_result"
    }
   ],
   "source": [
    "cluster_centroid = pd.read_csv('ClusterCentroid.csv').set_index('Cluster')\n",
    "cluster_centroid"
   ]
  },
  {
   "cell_type": "markdown",
   "id": "a3a8258b-6688-444b-9be5-f1608fb39421",
   "metadata": {},
   "source": [
    "### Applying model's scaling to the new dataset"
   ]
  },
  {
   "cell_type": "code",
   "execution_count": 133,
   "id": "2ebffbd6-4832-47dc-bbdf-3f16c29da0f1",
   "metadata": {
    "execution": {
     "iopub.execute_input": "2025-03-15T18:02:11.966021Z",
     "iopub.status.busy": "2025-03-15T18:02:11.964481Z",
     "iopub.status.idle": "2025-03-15T18:02:11.977963Z",
     "shell.execute_reply": "2025-03-15T18:02:11.976630Z",
     "shell.execute_reply.started": "2025-03-15T18:02:11.965965Z"
    }
   },
   "outputs": [],
   "source": [
    "X_scaled = scaler.transform(X)"
   ]
  },
  {
   "cell_type": "markdown",
   "id": "571d018c-02af-459c-a52e-d307d0c4fd0d",
   "metadata": {
    "execution": {
     "iopub.execute_input": "2025-02-25T14:28:34.215442Z",
     "iopub.status.busy": "2025-02-25T14:28:34.214924Z",
     "iopub.status.idle": "2025-02-25T14:28:34.235942Z",
     "shell.execute_reply": "2025-02-25T14:28:34.234824Z",
     "shell.execute_reply.started": "2025-02-25T14:28:34.215394Z"
    }
   },
   "source": [
    "### Computing the closest distance from each cluster\n",
    "To find the most appropriate cluster for the new data point"
   ]
  },
  {
   "cell_type": "code",
   "execution_count": 139,
   "id": "1230ab9f-e99b-46af-9d96-b847f8ca8693",
   "metadata": {
    "execution": {
     "iopub.execute_input": "2025-03-15T18:08:17.508677Z",
     "iopub.status.busy": "2025-03-15T18:08:17.506423Z",
     "iopub.status.idle": "2025-03-15T18:08:17.532858Z",
     "shell.execute_reply": "2025-03-15T18:08:17.531560Z",
     "shell.execute_reply.started": "2025-03-15T18:08:17.508558Z"
    }
   },
   "outputs": [
    {
     "data": {
      "text/plain": [
       "array([1, 2, 6])"
      ]
     },
     "execution_count": 139,
     "metadata": {},
     "output_type": "execute_result"
    }
   ],
   "source": [
    "new_cluster_labels = np.argmin(cdist(X_scaled, cluster_centroid, metric='euclidean'), axis=1)\n",
    "new_cluster_labels"
   ]
  },
  {
   "cell_type": "markdown",
   "id": "ee2040e3-fd6d-47a0-9bc0-6d8e2e72abcd",
   "metadata": {
    "execution": {
     "iopub.execute_input": "2025-03-01T22:00:33.436550Z",
     "iopub.status.busy": "2025-03-01T22:00:33.435980Z",
     "iopub.status.idle": "2025-03-01T22:00:33.448115Z",
     "shell.execute_reply": "2025-03-01T22:00:33.446039Z",
     "shell.execute_reply.started": "2025-03-01T22:00:33.436497Z"
    }
   },
   "source": [
    "---\n",
    "\n",
    "<center>\n",
    "    \n",
    "## Results\n",
    "\n",
    "</center>\n",
    "\n",
    "---"
   ]
  }
 ],
 "metadata": {
  "kernelspec": {
   "display_name": "graph",
   "language": "python",
   "name": "graph"
  },
  "language_info": {
   "codemirror_mode": {
    "name": "ipython",
    "version": 3
   },
   "file_extension": ".py",
   "mimetype": "text/x-python",
   "name": "python",
   "nbconvert_exporter": "python",
   "pygments_lexer": "ipython3",
   "version": "3.12.7"
  }
 },
 "nbformat": 4,
 "nbformat_minor": 5
}
